{
 "metadata": {
  "language_info": {
   "codemirror_mode": {
    "name": "ipython",
    "version": 3
   },
   "file_extension": ".py",
   "mimetype": "text/x-python",
   "name": "python",
   "nbconvert_exporter": "python",
   "pygments_lexer": "ipython3",
   "version": "3.8.3-final"
  },
  "orig_nbformat": 2,
  "kernelspec": {
   "name": "python_defaultSpec_1601632071360",
   "display_name": "Python 3.8.3 64-bit ('base': conda)",
   "metadata": {
    "interpreter": {
     "hash": "9d2581da51d5cb10eda60a394cff76e435b250f43f0c0378fa8666fe95aa1fee"
    }
   }
  }
 },
 "nbformat": 4,
 "nbformat_minor": 2,
 "cells": [
  {
   "cell_type": "code",
   "execution_count": 1,
   "metadata": {},
   "outputs": [],
   "source": [
    "import pandas as pd\n",
    "import numpy as np\n",
    "from sklearn.metrics import classification_report\n",
    "from sklearn.metrics import accuracy_score"
   ]
  },
  {
   "cell_type": "code",
   "execution_count": 2,
   "metadata": {},
   "outputs": [],
   "source": [
    "df = pd.read_csv('hotel_for_ML.csv')"
   ]
  },
  {
   "cell_type": "code",
   "execution_count": 3,
   "metadata": {},
   "outputs": [
    {
     "output_type": "execute_result",
     "data": {
      "text/plain": "        IsCanceled  LeadTime  ArrivalDate  ArrivalDateYear  ArrivalDateMonth  \\\n119385           0        23  2017-August             2017                 7   \n119386           0       102  2017-August             2017                 7   \n119387           0        34  2017-August             2017                 7   \n119388           0       109  2017-August             2017                 7   \n119389           0       205  2017-August             2017                 7   \n\n        ArrivalDateWeekNumber  ArrivalDateDayOfMonth  StaysInWeekendNights  \\\n119385                     35                     30                     2   \n119386                     35                     31                     2   \n119387                     35                     31                     2   \n119388                     35                     31                     2   \n119389                     35                     29                     2   \n\n        StaysInWeekNights  Adults  Children  Babies  Country  IsRepeatedGuest  \\\n119385                  5       2       0.0       0     15.0                0   \n119386                  5       3       0.0       0     56.0                0   \n119387                  5       2       0.0       0     43.0                0   \n119388                  5       2       0.0       0     59.0                0   \n119389                  7       2       0.0       0     43.0                0   \n\n        PreviousCancellations  PreviousBookingsNotCanceled  ReservedRoomType  \\\n119385                      0                            0                 0   \n119386                      0                            0                 4   \n119387                      0                            0                 3   \n119388                      0                            0                 0   \n119389                      0                            0                 0   \n\n        AssignedRoomType  BookingChanges  Agent  Company  DaysInWaitingList  \\\n119385                 0               0  217.0      0.0                  0   \n119386                 4               0  324.0      0.0                  0   \n119387                 3               0  324.0      0.0                  0   \n119388                 0               0  323.0      0.0                  0   \n119389                 0               0  324.0      0.0                  0   \n\n           ADR  RequiredCarParkingSpaces  TotalOfSpecialRequests  \\\n119385   96.14                         0                       0   \n119386  225.43                         0                       2   \n119387  157.71                         0                       4   \n119388  104.40                         0                       0   \n119389  151.20                         0                       2   \n\n       ReservationStatusDate  Hotel_City Hotel  Hotel_Resort Hotel  \\\n119385            2017-09-06                 1                   0   \n119386            2017-09-07                 1                   0   \n119387            2017-09-07                 1                   0   \n119388            2017-09-07                 1                   0   \n119389            2017-09-07                 1                   0   \n\n        Meal_BB         Meal_FB         Meal_HB         Meal_SC         \\\n119385               1               0               0               0   \n119386               1               0               0               0   \n119387               1               0               0               0   \n119388               1               0               0               0   \n119389               0               0               1               0   \n\n        Meal_Undefined  MarketSegment_Aviation  MarketSegment_Complementary  \\\n119385               0                       0                            0   \n119386               0                       0                            0   \n119387               0                       0                            0   \n119388               0                       0                            0   \n119389               0                       0                            0   \n\n        MarketSegment_Corporate  MarketSegment_Direct  MarketSegment_Groups  \\\n119385                        0                     0                     0   \n119386                        0                     0                     0   \n119387                        0                     0                     0   \n119388                        0                     0                     0   \n119389                        0                     0                     0   \n\n        MarketSegment_Offline TA/TO  MarketSegment_Online TA  \\\n119385                            1                        0   \n119386                            0                        1   \n119387                            0                        1   \n119388                            0                        1   \n119389                            0                        1   \n\n        MarketSegment_Undefined  DistributionChannel_Corporate  \\\n119385                        0                              0   \n119386                        0                              0   \n119387                        0                              0   \n119388                        0                              0   \n119389                        0                              0   \n\n        DistributionChannel_Direct  DistributionChannel_GDS  \\\n119385                           0                        0   \n119386                           0                        0   \n119387                           0                        0   \n119388                           0                        0   \n119389                           0                        0   \n\n        DistributionChannel_TA/TO  DistributionChannel_Undefined  \\\n119385                          1                              0   \n119386                          1                              0   \n119387                          1                              0   \n119388                          1                              0   \n119389                          1                              0   \n\n        DepositType_No Deposit       DepositType_Non Refund       \\\n119385                            1                            0   \n119386                            1                            0   \n119387                            1                            0   \n119388                            1                            0   \n119389                            1                            0   \n\n        DepositType_Refundable       CustomerType_Contract  \\\n119385                            0                      0   \n119386                            0                      0   \n119387                            0                      0   \n119388                            0                      0   \n119389                            0                      0   \n\n        CustomerType_Group  CustomerType_Transient  \\\n119385                   0                       1   \n119386                   0                       1   \n119387                   0                       1   \n119388                   0                       1   \n119389                   0                       1   \n\n        CustomerType_Transient-Party  ReservationStatus  \n119385                             0                  1  \n119386                             0                  1  \n119387                             0                  1  \n119388                             0                  1  \n119389                             0                  1  ",
      "text/html": "<div>\n<style scoped>\n    .dataframe tbody tr th:only-of-type {\n        vertical-align: middle;\n    }\n\n    .dataframe tbody tr th {\n        vertical-align: top;\n    }\n\n    .dataframe thead th {\n        text-align: right;\n    }\n</style>\n<table border=\"1\" class=\"dataframe\">\n  <thead>\n    <tr style=\"text-align: right;\">\n      <th></th>\n      <th>IsCanceled</th>\n      <th>LeadTime</th>\n      <th>ArrivalDate</th>\n      <th>ArrivalDateYear</th>\n      <th>ArrivalDateMonth</th>\n      <th>ArrivalDateWeekNumber</th>\n      <th>ArrivalDateDayOfMonth</th>\n      <th>StaysInWeekendNights</th>\n      <th>StaysInWeekNights</th>\n      <th>Adults</th>\n      <th>Children</th>\n      <th>Babies</th>\n      <th>Country</th>\n      <th>IsRepeatedGuest</th>\n      <th>PreviousCancellations</th>\n      <th>PreviousBookingsNotCanceled</th>\n      <th>ReservedRoomType</th>\n      <th>AssignedRoomType</th>\n      <th>BookingChanges</th>\n      <th>Agent</th>\n      <th>Company</th>\n      <th>DaysInWaitingList</th>\n      <th>ADR</th>\n      <th>RequiredCarParkingSpaces</th>\n      <th>TotalOfSpecialRequests</th>\n      <th>ReservationStatusDate</th>\n      <th>Hotel_City Hotel</th>\n      <th>Hotel_Resort Hotel</th>\n      <th>Meal_BB</th>\n      <th>Meal_FB</th>\n      <th>Meal_HB</th>\n      <th>Meal_SC</th>\n      <th>Meal_Undefined</th>\n      <th>MarketSegment_Aviation</th>\n      <th>MarketSegment_Complementary</th>\n      <th>MarketSegment_Corporate</th>\n      <th>MarketSegment_Direct</th>\n      <th>MarketSegment_Groups</th>\n      <th>MarketSegment_Offline TA/TO</th>\n      <th>MarketSegment_Online TA</th>\n      <th>MarketSegment_Undefined</th>\n      <th>DistributionChannel_Corporate</th>\n      <th>DistributionChannel_Direct</th>\n      <th>DistributionChannel_GDS</th>\n      <th>DistributionChannel_TA/TO</th>\n      <th>DistributionChannel_Undefined</th>\n      <th>DepositType_No Deposit</th>\n      <th>DepositType_Non Refund</th>\n      <th>DepositType_Refundable</th>\n      <th>CustomerType_Contract</th>\n      <th>CustomerType_Group</th>\n      <th>CustomerType_Transient</th>\n      <th>CustomerType_Transient-Party</th>\n      <th>ReservationStatus</th>\n    </tr>\n  </thead>\n  <tbody>\n    <tr>\n      <th>119385</th>\n      <td>0</td>\n      <td>23</td>\n      <td>2017-August</td>\n      <td>2017</td>\n      <td>7</td>\n      <td>35</td>\n      <td>30</td>\n      <td>2</td>\n      <td>5</td>\n      <td>2</td>\n      <td>0.0</td>\n      <td>0</td>\n      <td>15.0</td>\n      <td>0</td>\n      <td>0</td>\n      <td>0</td>\n      <td>0</td>\n      <td>0</td>\n      <td>0</td>\n      <td>217.0</td>\n      <td>0.0</td>\n      <td>0</td>\n      <td>96.14</td>\n      <td>0</td>\n      <td>0</td>\n      <td>2017-09-06</td>\n      <td>1</td>\n      <td>0</td>\n      <td>1</td>\n      <td>0</td>\n      <td>0</td>\n      <td>0</td>\n      <td>0</td>\n      <td>0</td>\n      <td>0</td>\n      <td>0</td>\n      <td>0</td>\n      <td>0</td>\n      <td>1</td>\n      <td>0</td>\n      <td>0</td>\n      <td>0</td>\n      <td>0</td>\n      <td>0</td>\n      <td>1</td>\n      <td>0</td>\n      <td>1</td>\n      <td>0</td>\n      <td>0</td>\n      <td>0</td>\n      <td>0</td>\n      <td>1</td>\n      <td>0</td>\n      <td>1</td>\n    </tr>\n    <tr>\n      <th>119386</th>\n      <td>0</td>\n      <td>102</td>\n      <td>2017-August</td>\n      <td>2017</td>\n      <td>7</td>\n      <td>35</td>\n      <td>31</td>\n      <td>2</td>\n      <td>5</td>\n      <td>3</td>\n      <td>0.0</td>\n      <td>0</td>\n      <td>56.0</td>\n      <td>0</td>\n      <td>0</td>\n      <td>0</td>\n      <td>4</td>\n      <td>4</td>\n      <td>0</td>\n      <td>324.0</td>\n      <td>0.0</td>\n      <td>0</td>\n      <td>225.43</td>\n      <td>0</td>\n      <td>2</td>\n      <td>2017-09-07</td>\n      <td>1</td>\n      <td>0</td>\n      <td>1</td>\n      <td>0</td>\n      <td>0</td>\n      <td>0</td>\n      <td>0</td>\n      <td>0</td>\n      <td>0</td>\n      <td>0</td>\n      <td>0</td>\n      <td>0</td>\n      <td>0</td>\n      <td>1</td>\n      <td>0</td>\n      <td>0</td>\n      <td>0</td>\n      <td>0</td>\n      <td>1</td>\n      <td>0</td>\n      <td>1</td>\n      <td>0</td>\n      <td>0</td>\n      <td>0</td>\n      <td>0</td>\n      <td>1</td>\n      <td>0</td>\n      <td>1</td>\n    </tr>\n    <tr>\n      <th>119387</th>\n      <td>0</td>\n      <td>34</td>\n      <td>2017-August</td>\n      <td>2017</td>\n      <td>7</td>\n      <td>35</td>\n      <td>31</td>\n      <td>2</td>\n      <td>5</td>\n      <td>2</td>\n      <td>0.0</td>\n      <td>0</td>\n      <td>43.0</td>\n      <td>0</td>\n      <td>0</td>\n      <td>0</td>\n      <td>3</td>\n      <td>3</td>\n      <td>0</td>\n      <td>324.0</td>\n      <td>0.0</td>\n      <td>0</td>\n      <td>157.71</td>\n      <td>0</td>\n      <td>4</td>\n      <td>2017-09-07</td>\n      <td>1</td>\n      <td>0</td>\n      <td>1</td>\n      <td>0</td>\n      <td>0</td>\n      <td>0</td>\n      <td>0</td>\n      <td>0</td>\n      <td>0</td>\n      <td>0</td>\n      <td>0</td>\n      <td>0</td>\n      <td>0</td>\n      <td>1</td>\n      <td>0</td>\n      <td>0</td>\n      <td>0</td>\n      <td>0</td>\n      <td>1</td>\n      <td>0</td>\n      <td>1</td>\n      <td>0</td>\n      <td>0</td>\n      <td>0</td>\n      <td>0</td>\n      <td>1</td>\n      <td>0</td>\n      <td>1</td>\n    </tr>\n    <tr>\n      <th>119388</th>\n      <td>0</td>\n      <td>109</td>\n      <td>2017-August</td>\n      <td>2017</td>\n      <td>7</td>\n      <td>35</td>\n      <td>31</td>\n      <td>2</td>\n      <td>5</td>\n      <td>2</td>\n      <td>0.0</td>\n      <td>0</td>\n      <td>59.0</td>\n      <td>0</td>\n      <td>0</td>\n      <td>0</td>\n      <td>0</td>\n      <td>0</td>\n      <td>0</td>\n      <td>323.0</td>\n      <td>0.0</td>\n      <td>0</td>\n      <td>104.40</td>\n      <td>0</td>\n      <td>0</td>\n      <td>2017-09-07</td>\n      <td>1</td>\n      <td>0</td>\n      <td>1</td>\n      <td>0</td>\n      <td>0</td>\n      <td>0</td>\n      <td>0</td>\n      <td>0</td>\n      <td>0</td>\n      <td>0</td>\n      <td>0</td>\n      <td>0</td>\n      <td>0</td>\n      <td>1</td>\n      <td>0</td>\n      <td>0</td>\n      <td>0</td>\n      <td>0</td>\n      <td>1</td>\n      <td>0</td>\n      <td>1</td>\n      <td>0</td>\n      <td>0</td>\n      <td>0</td>\n      <td>0</td>\n      <td>1</td>\n      <td>0</td>\n      <td>1</td>\n    </tr>\n    <tr>\n      <th>119389</th>\n      <td>0</td>\n      <td>205</td>\n      <td>2017-August</td>\n      <td>2017</td>\n      <td>7</td>\n      <td>35</td>\n      <td>29</td>\n      <td>2</td>\n      <td>7</td>\n      <td>2</td>\n      <td>0.0</td>\n      <td>0</td>\n      <td>43.0</td>\n      <td>0</td>\n      <td>0</td>\n      <td>0</td>\n      <td>0</td>\n      <td>0</td>\n      <td>0</td>\n      <td>324.0</td>\n      <td>0.0</td>\n      <td>0</td>\n      <td>151.20</td>\n      <td>0</td>\n      <td>2</td>\n      <td>2017-09-07</td>\n      <td>1</td>\n      <td>0</td>\n      <td>0</td>\n      <td>0</td>\n      <td>1</td>\n      <td>0</td>\n      <td>0</td>\n      <td>0</td>\n      <td>0</td>\n      <td>0</td>\n      <td>0</td>\n      <td>0</td>\n      <td>0</td>\n      <td>1</td>\n      <td>0</td>\n      <td>0</td>\n      <td>0</td>\n      <td>0</td>\n      <td>1</td>\n      <td>0</td>\n      <td>1</td>\n      <td>0</td>\n      <td>0</td>\n      <td>0</td>\n      <td>0</td>\n      <td>1</td>\n      <td>0</td>\n      <td>1</td>\n    </tr>\n  </tbody>\n</table>\n</div>"
     },
     "metadata": {},
     "execution_count": 3
    }
   ],
   "source": [
    "pd.set_option(\"display.max_columns\",None)\n",
    "df.tail()"
   ]
  },
  {
   "cell_type": "code",
   "execution_count": 4,
   "metadata": {},
   "outputs": [],
   "source": [
    "df = df.drop(columns=['ArrivalDate','ReservationStatusDate'])"
   ]
  },
  {
   "cell_type": "code",
   "execution_count": 5,
   "metadata": {},
   "outputs": [
    {
     "output_type": "execute_result",
     "data": {
      "text/plain": "        IsCanceled  LeadTime  ArrivalDateYear  ArrivalDateMonth  \\\n119385           0        23             2017                 7   \n119386           0       102             2017                 7   \n119387           0        34             2017                 7   \n119388           0       109             2017                 7   \n119389           0       205             2017                 7   \n\n        ArrivalDateWeekNumber  ArrivalDateDayOfMonth  StaysInWeekendNights  \\\n119385                     35                     30                     2   \n119386                     35                     31                     2   \n119387                     35                     31                     2   \n119388                     35                     31                     2   \n119389                     35                     29                     2   \n\n        StaysInWeekNights  Adults  Children  Babies  Country  IsRepeatedGuest  \\\n119385                  5       2       0.0       0     15.0                0   \n119386                  5       3       0.0       0     56.0                0   \n119387                  5       2       0.0       0     43.0                0   \n119388                  5       2       0.0       0     59.0                0   \n119389                  7       2       0.0       0     43.0                0   \n\n        PreviousCancellations  PreviousBookingsNotCanceled  ReservedRoomType  \\\n119385                      0                            0                 0   \n119386                      0                            0                 4   \n119387                      0                            0                 3   \n119388                      0                            0                 0   \n119389                      0                            0                 0   \n\n        AssignedRoomType  BookingChanges  Agent  Company  DaysInWaitingList  \\\n119385                 0               0  217.0      0.0                  0   \n119386                 4               0  324.0      0.0                  0   \n119387                 3               0  324.0      0.0                  0   \n119388                 0               0  323.0      0.0                  0   \n119389                 0               0  324.0      0.0                  0   \n\n           ADR  RequiredCarParkingSpaces  TotalOfSpecialRequests  \\\n119385   96.14                         0                       0   \n119386  225.43                         0                       2   \n119387  157.71                         0                       4   \n119388  104.40                         0                       0   \n119389  151.20                         0                       2   \n\n        Hotel_City Hotel  Hotel_Resort Hotel  Meal_BB         Meal_FB         \\\n119385                 1                   0               1               0   \n119386                 1                   0               1               0   \n119387                 1                   0               1               0   \n119388                 1                   0               1               0   \n119389                 1                   0               0               0   \n\n        Meal_HB         Meal_SC         Meal_Undefined  \\\n119385               0               0               0   \n119386               0               0               0   \n119387               0               0               0   \n119388               0               0               0   \n119389               1               0               0   \n\n        MarketSegment_Aviation  MarketSegment_Complementary  \\\n119385                       0                            0   \n119386                       0                            0   \n119387                       0                            0   \n119388                       0                            0   \n119389                       0                            0   \n\n        MarketSegment_Corporate  MarketSegment_Direct  MarketSegment_Groups  \\\n119385                        0                     0                     0   \n119386                        0                     0                     0   \n119387                        0                     0                     0   \n119388                        0                     0                     0   \n119389                        0                     0                     0   \n\n        MarketSegment_Offline TA/TO  MarketSegment_Online TA  \\\n119385                            1                        0   \n119386                            0                        1   \n119387                            0                        1   \n119388                            0                        1   \n119389                            0                        1   \n\n        MarketSegment_Undefined  DistributionChannel_Corporate  \\\n119385                        0                              0   \n119386                        0                              0   \n119387                        0                              0   \n119388                        0                              0   \n119389                        0                              0   \n\n        DistributionChannel_Direct  DistributionChannel_GDS  \\\n119385                           0                        0   \n119386                           0                        0   \n119387                           0                        0   \n119388                           0                        0   \n119389                           0                        0   \n\n        DistributionChannel_TA/TO  DistributionChannel_Undefined  \\\n119385                          1                              0   \n119386                          1                              0   \n119387                          1                              0   \n119388                          1                              0   \n119389                          1                              0   \n\n        DepositType_No Deposit       DepositType_Non Refund       \\\n119385                            1                            0   \n119386                            1                            0   \n119387                            1                            0   \n119388                            1                            0   \n119389                            1                            0   \n\n        DepositType_Refundable       CustomerType_Contract  \\\n119385                            0                      0   \n119386                            0                      0   \n119387                            0                      0   \n119388                            0                      0   \n119389                            0                      0   \n\n        CustomerType_Group  CustomerType_Transient  \\\n119385                   0                       1   \n119386                   0                       1   \n119387                   0                       1   \n119388                   0                       1   \n119389                   0                       1   \n\n        CustomerType_Transient-Party  ReservationStatus  \n119385                             0                  1  \n119386                             0                  1  \n119387                             0                  1  \n119388                             0                  1  \n119389                             0                  1  ",
      "text/html": "<div>\n<style scoped>\n    .dataframe tbody tr th:only-of-type {\n        vertical-align: middle;\n    }\n\n    .dataframe tbody tr th {\n        vertical-align: top;\n    }\n\n    .dataframe thead th {\n        text-align: right;\n    }\n</style>\n<table border=\"1\" class=\"dataframe\">\n  <thead>\n    <tr style=\"text-align: right;\">\n      <th></th>\n      <th>IsCanceled</th>\n      <th>LeadTime</th>\n      <th>ArrivalDateYear</th>\n      <th>ArrivalDateMonth</th>\n      <th>ArrivalDateWeekNumber</th>\n      <th>ArrivalDateDayOfMonth</th>\n      <th>StaysInWeekendNights</th>\n      <th>StaysInWeekNights</th>\n      <th>Adults</th>\n      <th>Children</th>\n      <th>Babies</th>\n      <th>Country</th>\n      <th>IsRepeatedGuest</th>\n      <th>PreviousCancellations</th>\n      <th>PreviousBookingsNotCanceled</th>\n      <th>ReservedRoomType</th>\n      <th>AssignedRoomType</th>\n      <th>BookingChanges</th>\n      <th>Agent</th>\n      <th>Company</th>\n      <th>DaysInWaitingList</th>\n      <th>ADR</th>\n      <th>RequiredCarParkingSpaces</th>\n      <th>TotalOfSpecialRequests</th>\n      <th>Hotel_City Hotel</th>\n      <th>Hotel_Resort Hotel</th>\n      <th>Meal_BB</th>\n      <th>Meal_FB</th>\n      <th>Meal_HB</th>\n      <th>Meal_SC</th>\n      <th>Meal_Undefined</th>\n      <th>MarketSegment_Aviation</th>\n      <th>MarketSegment_Complementary</th>\n      <th>MarketSegment_Corporate</th>\n      <th>MarketSegment_Direct</th>\n      <th>MarketSegment_Groups</th>\n      <th>MarketSegment_Offline TA/TO</th>\n      <th>MarketSegment_Online TA</th>\n      <th>MarketSegment_Undefined</th>\n      <th>DistributionChannel_Corporate</th>\n      <th>DistributionChannel_Direct</th>\n      <th>DistributionChannel_GDS</th>\n      <th>DistributionChannel_TA/TO</th>\n      <th>DistributionChannel_Undefined</th>\n      <th>DepositType_No Deposit</th>\n      <th>DepositType_Non Refund</th>\n      <th>DepositType_Refundable</th>\n      <th>CustomerType_Contract</th>\n      <th>CustomerType_Group</th>\n      <th>CustomerType_Transient</th>\n      <th>CustomerType_Transient-Party</th>\n      <th>ReservationStatus</th>\n    </tr>\n  </thead>\n  <tbody>\n    <tr>\n      <th>119385</th>\n      <td>0</td>\n      <td>23</td>\n      <td>2017</td>\n      <td>7</td>\n      <td>35</td>\n      <td>30</td>\n      <td>2</td>\n      <td>5</td>\n      <td>2</td>\n      <td>0.0</td>\n      <td>0</td>\n      <td>15.0</td>\n      <td>0</td>\n      <td>0</td>\n      <td>0</td>\n      <td>0</td>\n      <td>0</td>\n      <td>0</td>\n      <td>217.0</td>\n      <td>0.0</td>\n      <td>0</td>\n      <td>96.14</td>\n      <td>0</td>\n      <td>0</td>\n      <td>1</td>\n      <td>0</td>\n      <td>1</td>\n      <td>0</td>\n      <td>0</td>\n      <td>0</td>\n      <td>0</td>\n      <td>0</td>\n      <td>0</td>\n      <td>0</td>\n      <td>0</td>\n      <td>0</td>\n      <td>1</td>\n      <td>0</td>\n      <td>0</td>\n      <td>0</td>\n      <td>0</td>\n      <td>0</td>\n      <td>1</td>\n      <td>0</td>\n      <td>1</td>\n      <td>0</td>\n      <td>0</td>\n      <td>0</td>\n      <td>0</td>\n      <td>1</td>\n      <td>0</td>\n      <td>1</td>\n    </tr>\n    <tr>\n      <th>119386</th>\n      <td>0</td>\n      <td>102</td>\n      <td>2017</td>\n      <td>7</td>\n      <td>35</td>\n      <td>31</td>\n      <td>2</td>\n      <td>5</td>\n      <td>3</td>\n      <td>0.0</td>\n      <td>0</td>\n      <td>56.0</td>\n      <td>0</td>\n      <td>0</td>\n      <td>0</td>\n      <td>4</td>\n      <td>4</td>\n      <td>0</td>\n      <td>324.0</td>\n      <td>0.0</td>\n      <td>0</td>\n      <td>225.43</td>\n      <td>0</td>\n      <td>2</td>\n      <td>1</td>\n      <td>0</td>\n      <td>1</td>\n      <td>0</td>\n      <td>0</td>\n      <td>0</td>\n      <td>0</td>\n      <td>0</td>\n      <td>0</td>\n      <td>0</td>\n      <td>0</td>\n      <td>0</td>\n      <td>0</td>\n      <td>1</td>\n      <td>0</td>\n      <td>0</td>\n      <td>0</td>\n      <td>0</td>\n      <td>1</td>\n      <td>0</td>\n      <td>1</td>\n      <td>0</td>\n      <td>0</td>\n      <td>0</td>\n      <td>0</td>\n      <td>1</td>\n      <td>0</td>\n      <td>1</td>\n    </tr>\n    <tr>\n      <th>119387</th>\n      <td>0</td>\n      <td>34</td>\n      <td>2017</td>\n      <td>7</td>\n      <td>35</td>\n      <td>31</td>\n      <td>2</td>\n      <td>5</td>\n      <td>2</td>\n      <td>0.0</td>\n      <td>0</td>\n      <td>43.0</td>\n      <td>0</td>\n      <td>0</td>\n      <td>0</td>\n      <td>3</td>\n      <td>3</td>\n      <td>0</td>\n      <td>324.0</td>\n      <td>0.0</td>\n      <td>0</td>\n      <td>157.71</td>\n      <td>0</td>\n      <td>4</td>\n      <td>1</td>\n      <td>0</td>\n      <td>1</td>\n      <td>0</td>\n      <td>0</td>\n      <td>0</td>\n      <td>0</td>\n      <td>0</td>\n      <td>0</td>\n      <td>0</td>\n      <td>0</td>\n      <td>0</td>\n      <td>0</td>\n      <td>1</td>\n      <td>0</td>\n      <td>0</td>\n      <td>0</td>\n      <td>0</td>\n      <td>1</td>\n      <td>0</td>\n      <td>1</td>\n      <td>0</td>\n      <td>0</td>\n      <td>0</td>\n      <td>0</td>\n      <td>1</td>\n      <td>0</td>\n      <td>1</td>\n    </tr>\n    <tr>\n      <th>119388</th>\n      <td>0</td>\n      <td>109</td>\n      <td>2017</td>\n      <td>7</td>\n      <td>35</td>\n      <td>31</td>\n      <td>2</td>\n      <td>5</td>\n      <td>2</td>\n      <td>0.0</td>\n      <td>0</td>\n      <td>59.0</td>\n      <td>0</td>\n      <td>0</td>\n      <td>0</td>\n      <td>0</td>\n      <td>0</td>\n      <td>0</td>\n      <td>323.0</td>\n      <td>0.0</td>\n      <td>0</td>\n      <td>104.40</td>\n      <td>0</td>\n      <td>0</td>\n      <td>1</td>\n      <td>0</td>\n      <td>1</td>\n      <td>0</td>\n      <td>0</td>\n      <td>0</td>\n      <td>0</td>\n      <td>0</td>\n      <td>0</td>\n      <td>0</td>\n      <td>0</td>\n      <td>0</td>\n      <td>0</td>\n      <td>1</td>\n      <td>0</td>\n      <td>0</td>\n      <td>0</td>\n      <td>0</td>\n      <td>1</td>\n      <td>0</td>\n      <td>1</td>\n      <td>0</td>\n      <td>0</td>\n      <td>0</td>\n      <td>0</td>\n      <td>1</td>\n      <td>0</td>\n      <td>1</td>\n    </tr>\n    <tr>\n      <th>119389</th>\n      <td>0</td>\n      <td>205</td>\n      <td>2017</td>\n      <td>7</td>\n      <td>35</td>\n      <td>29</td>\n      <td>2</td>\n      <td>7</td>\n      <td>2</td>\n      <td>0.0</td>\n      <td>0</td>\n      <td>43.0</td>\n      <td>0</td>\n      <td>0</td>\n      <td>0</td>\n      <td>0</td>\n      <td>0</td>\n      <td>0</td>\n      <td>324.0</td>\n      <td>0.0</td>\n      <td>0</td>\n      <td>151.20</td>\n      <td>0</td>\n      <td>2</td>\n      <td>1</td>\n      <td>0</td>\n      <td>0</td>\n      <td>0</td>\n      <td>1</td>\n      <td>0</td>\n      <td>0</td>\n      <td>0</td>\n      <td>0</td>\n      <td>0</td>\n      <td>0</td>\n      <td>0</td>\n      <td>0</td>\n      <td>1</td>\n      <td>0</td>\n      <td>0</td>\n      <td>0</td>\n      <td>0</td>\n      <td>1</td>\n      <td>0</td>\n      <td>1</td>\n      <td>0</td>\n      <td>0</td>\n      <td>0</td>\n      <td>0</td>\n      <td>1</td>\n      <td>0</td>\n      <td>1</td>\n    </tr>\n  </tbody>\n</table>\n</div>"
     },
     "metadata": {},
     "execution_count": 5
    }
   ],
   "source": [
    "df.tail()"
   ]
  },
  {
   "cell_type": "code",
   "execution_count": 6,
   "metadata": {},
   "outputs": [
    {
     "output_type": "execute_result",
     "data": {
      "text/plain": "Index([&#39;IsCanceled&#39;, &#39;LeadTime&#39;, &#39;ArrivalDateYear&#39;, &#39;ArrivalDateMonth&#39;,\n       &#39;ArrivalDateWeekNumber&#39;, &#39;ArrivalDateDayOfMonth&#39;,\n       &#39;StaysInWeekendNights&#39;, &#39;StaysInWeekNights&#39;, &#39;Adults&#39;, &#39;Children&#39;,\n       &#39;Babies&#39;, &#39;Country&#39;, &#39;IsRepeatedGuest&#39;, &#39;PreviousCancellations&#39;,\n       &#39;PreviousBookingsNotCanceled&#39;, &#39;ReservedRoomType&#39;, &#39;AssignedRoomType&#39;,\n       &#39;BookingChanges&#39;, &#39;Agent&#39;, &#39;Company&#39;, &#39;DaysInWaitingList&#39;, &#39;ADR&#39;,\n       &#39;RequiredCarParkingSpaces&#39;, &#39;TotalOfSpecialRequests&#39;,\n       &#39;Hotel_City Hotel&#39;, &#39;Hotel_Resort Hotel&#39;, &#39;Meal_BB       &#39;,\n       &#39;Meal_FB       &#39;, &#39;Meal_HB       &#39;, &#39;Meal_SC       &#39;, &#39;Meal_Undefined&#39;,\n       &#39;MarketSegment_Aviation&#39;, &#39;MarketSegment_Complementary&#39;,\n       &#39;MarketSegment_Corporate&#39;, &#39;MarketSegment_Direct&#39;,\n       &#39;MarketSegment_Groups&#39;, &#39;MarketSegment_Offline TA/TO&#39;,\n       &#39;MarketSegment_Online TA&#39;, &#39;MarketSegment_Undefined&#39;,\n       &#39;DistributionChannel_Corporate&#39;, &#39;DistributionChannel_Direct&#39;,\n       &#39;DistributionChannel_GDS&#39;, &#39;DistributionChannel_TA/TO&#39;,\n       &#39;DistributionChannel_Undefined&#39;, &#39;DepositType_No Deposit     &#39;,\n       &#39;DepositType_Non Refund     &#39;, &#39;DepositType_Refundable     &#39;,\n       &#39;CustomerType_Contract&#39;, &#39;CustomerType_Group&#39;, &#39;CustomerType_Transient&#39;,\n       &#39;CustomerType_Transient-Party&#39;, &#39;ReservationStatus&#39;],\n      dtype=&#39;object&#39;)"
     },
     "metadata": {},
     "execution_count": 6
    }
   ],
   "source": [
    "df.columns"
   ]
  },
  {
   "cell_type": "code",
   "execution_count": 20,
   "metadata": {},
   "outputs": [],
   "source": [
    "#without features:  ReservationStatus,  ArrivalDate, ReservationStatusDate\n",
    "x=df[['LeadTime', 'ArrivalDateYear', 'ArrivalDateMonth',\n",
    "       'ArrivalDateWeekNumber', 'ArrivalDateDayOfMonth',\n",
    "       'StaysInWeekendNights', 'StaysInWeekNights', 'Adults', 'Children',\n",
    "       'Babies', 'Country', 'IsRepeatedGuest', 'PreviousCancellations',\n",
    "       'PreviousBookingsNotCanceled', 'ReservedRoomType', 'AssignedRoomType',\n",
    "       'BookingChanges', 'Agent', 'Company', 'DaysInWaitingList', 'ADR',\n",
    "       'RequiredCarParkingSpaces', 'TotalOfSpecialRequests',\n",
    "       'Hotel_City Hotel', 'Hotel_Resort Hotel', 'Meal_BB       ',\n",
    "       'Meal_FB       ', 'Meal_HB       ', 'Meal_SC       ', 'Meal_Undefined',\n",
    "       'MarketSegment_Aviation', 'MarketSegment_Complementary',\n",
    "       'MarketSegment_Corporate', 'MarketSegment_Direct',\n",
    "       'MarketSegment_Groups', 'MarketSegment_Offline TA/TO',\n",
    "       'MarketSegment_Online TA', 'MarketSegment_Undefined',\n",
    "       'DistributionChannel_Corporate', 'DistributionChannel_Direct',\n",
    "       'DistributionChannel_GDS', 'DistributionChannel_TA/TO',\n",
    "       'DistributionChannel_Undefined',\n",
    "       'CustomerType_Contract', 'CustomerType_Group', 'CustomerType_Transient',\n",
    "       'CustomerType_Transient-Party']]\n",
    "y=df[['IsCanceled']]\n",
    "\n",
    "from sklearn.model_selection import train_test_split\n",
    "x_train,x_test,y_train,y_test = train_test_split(x,y,test_size=0.2,random_state=1111)"
   ]
  },
  {
   "cell_type": "code",
   "execution_count": 8,
   "metadata": {
    "tags": []
   },
   "outputs": [
    {
     "output_type": "stream",
     "name": "stdout",
     "text": "              precision    recall  f1-score   support\n\n           0       0.89      0.88      0.88     15130\n           1       0.79      0.81      0.80      8748\n\n    accuracy                           0.85     23878\n   macro avg       0.84      0.84      0.84     23878\nweighted avg       0.85      0.85      0.85     23878\n\n0.8527096071697797\n"
    }
   ],
   "source": [
    "#decision tree\n",
    "\n",
    "from sklearn.tree import DecisionTreeClassifier\n",
    "trees = DecisionTreeClassifier()\n",
    "trees.fit(x_train,y_train)\n",
    "y_pred = trees.predict(x_test)\n",
    "\n",
    "print(classification_report(np.array(y_test),np.array(y_pred)))\n",
    "print(accuracy_score(y_pred,y_test))"
   ]
  },
  {
   "cell_type": "code",
   "execution_count": 25,
   "metadata": {
    "tags": []
   },
   "outputs": [
    {
     "output_type": "stream",
     "name": "stdout",
     "text": "{&#39;max_features&#39;: &#39;auto&#39;, &#39;n_estimators&#39;: 700}\n"
    }
   ],
   "source": [
    "from sklearn.model_selection import GridSearchCV\n",
    "\n",
    "rfc = RandomForestClassifier(n_jobs=-1,max_features= 'sqrt' ,n_estimators=50, oob_score = True) \n",
    "\n",
    "param_grid = { \n",
    "    'n_estimators': [200, 700],\n",
    "    'max_features': ['auto', 'sqrt', 'log2']\n",
    "}\n",
    "\n",
    "CV_rfc = GridSearchCV(estimator=rfc, param_grid=param_grid, cv= 5)\n",
    "CV_rfc.fit(x_train, y_train)\n",
    "print(CV_rfc.best_params_)"
   ]
  },
  {
   "cell_type": "code",
   "execution_count": 26,
   "metadata": {
    "tags": []
   },
   "outputs": [
    {
     "output_type": "stream",
     "name": "stdout",
     "text": "              precision    recall  f1-score   support\n\n           0       0.90      0.94      0.92     15130\n           1       0.88      0.81      0.85      8748\n\n    accuracy                           0.89     23878\n   macro avg       0.89      0.88      0.88     23878\nweighted avg       0.89      0.89      0.89     23878\n\n0.8922439065248345\n"
    }
   ],
   "source": [
    "#random forest\n",
    "\n",
    "from sklearn.ensemble import RandomForestClassifier\n",
    "forest = RandomForestClassifier(n_estimators=1000, n_jobs=4,random_state=1111)\n",
    "forest.fit(x_train,y_train)\n",
    "y_pred = forest.predict(x_test)\n",
    "\n",
    "print(classification_report(np.array(y_test),np.array(y_pred)))\n",
    "print(accuracy_score(y_pred,y_test))"
   ]
  },
  {
   "cell_type": "code",
   "execution_count": 10,
   "metadata": {
    "tags": []
   },
   "outputs": [
    {
     "output_type": "stream",
     "name": "stdout",
     "text": "              precision    recall  f1-score   support\n\n           0       0.76      0.86      0.81     15130\n           1       0.69      0.53      0.60      8748\n\n    accuracy                           0.74     23878\n   macro avg       0.72      0.70      0.70     23878\nweighted avg       0.73      0.74      0.73     23878\n\n0.7403048831560433\n"
    }
   ],
   "source": [
    "#logistic regression\n",
    "\n",
    "from sklearn.linear_model import LogisticRegression\n",
    "logmodel = LogisticRegression()\n",
    "logmodel.fit(x_train,y_train)\n",
    "y_pred = logmodel.predict(x_test)\n",
    "\n",
    "print(classification_report(np.array(y_test),np.array(y_pred)))\n",
    "print(accuracy_score(y_pred,y_test))"
   ]
  },
  {
   "cell_type": "code",
   "execution_count": 11,
   "metadata": {
    "tags": []
   },
   "outputs": [
    {
     "output_type": "stream",
     "name": "stdout",
     "text": "{&#39;n_neighbors&#39;: 2}\n0.8151018031647785\n"
    }
   ],
   "source": [
    "# K-NN\n",
    "\n",
    "from sklearn.model_selection import GridSearchCV\n",
    "from sklearn.neighbors import KNeighborsClassifier\n",
    "knn = KNeighborsClassifier()\n",
    "params = dict(n_neighbors = range(1,5))\n",
    "gridsearch = GridSearchCV(estimator=knn, param_grid = params, cv=10, scoring='accuracy')\n",
    "gridsearch.fit(x_train,y_train)\n",
    "\n",
    "print(gridsearch.best_params_)\n",
    "print(gridsearch.best_score_)"
   ]
  },
  {
   "cell_type": "code",
   "execution_count": 15,
   "metadata": {
    "tags": []
   },
   "outputs": [
    {
     "output_type": "stream",
     "name": "stdout",
     "text": "              precision    recall  f1-score   support\n\n           0       0.81      0.90      0.85     15130\n           1       0.79      0.64      0.70      8748\n\n    accuracy                           0.80     23878\n   macro avg       0.80      0.77      0.78     23878\nweighted avg       0.80      0.80      0.80     23878\n\n0.8035011307479688\n"
    }
   ],
   "source": [
    "knn = KNeighborsClassifier(n_neighbors=8)\n",
    "knn.fit(x_train,y_train)\n",
    "y_pred = knn.predict(x_test)\n",
    "\n",
    "print(classification_report(np.array(y_test),np.array(y_pred)))\n",
    "print(accuracy_score(y_pred,y_test))"
   ]
  },
  {
   "cell_type": "code",
   "execution_count": 14,
   "metadata": {
    "tags": []
   },
   "outputs": [
    {
     "output_type": "stream",
     "name": "stdout",
     "text": "Best lead_size: 7\nBest n_neighbors: 8\n"
    }
   ],
   "source": [
    "from sklearn.model_selection import GridSearchCV\n",
    "from sklearn.neighbors import KNeighborsClassifier\n",
    "leaf_size = list(range(1,10))\n",
    "n_neighbors = list(range(1,10))\n",
    "\n",
    "hyperparameters = dict(leaf_size = leaf_size, n_neighbors=n_neighbors)\n",
    "\n",
    "knn_2 = KNeighborsClassifier()\n",
    "\n",
    "clf = GridSearchCV(knn_2, hyperparameters, cv=10)\n",
    "\n",
    "best_model = clf.fit(x,y)\n",
    "\n",
    "print('Best leaf_size:', best_model.best_estimator_.get_params()['leaf_size'])\n",
    "print('Best n_neighbors:', best_model.best_estimator_.get_params()['n_neighbors'])\n",
    "\n"
   ]
  },
  {
   "cell_type": "code",
   "execution_count": 10,
   "metadata": {
    "tags": []
   },
   "outputs": [
    {
     "output_type": "stream",
     "name": "stdout",
     "text": "The best parameters are {&#39;C&#39;: 10, &#39;gamma&#39;: 0.1} with a score of 0.86\n"
    }
   ],
   "source": [
    "#SVM\n",
    "\n",
    "from sklearn.svm import SVC\n",
    "from sklearn.datasets import make_moons, make_circles, make_classification\n",
    "from sklearn.preprocessing import StandardScaler\n",
    "x_train = StandardScaler().fit_transform(x_train)\n",
    "\n",
    "from sklearn.model_selection import GridSearchCV\n",
    "grid = GridSearchCV(SVC(), param_grid={'C':[0.1,1,10], 'gamma':[1,0.1,0.01]}, cv=5)\n",
    "grid.fit(x_train, y_train)\n",
    "\n",
    "print(\"The best parameters are %s with a score of %0.2f\" %(grid.best_params_, grid.best_score_))\n",
    "\n"
   ]
  },
  {
   "cell_type": "code",
   "execution_count": 12,
   "metadata": {
    "tags": []
   },
   "outputs": [
    {
     "output_type": "stream",
     "name": "stdout",
     "text": "              precision    recall  f1-score   support\n\n           0       0.63      1.00      0.78     15130\n           1       0.00      0.00      0.00      8748\n\n    accuracy                           0.63     23878\n   macro avg       0.32      0.50      0.39     23878\nweighted avg       0.40      0.63      0.49     23878\n\n"
    }
   ],
   "source": [
    "grid_predictions = grid.predict(x_test) \n",
    "  \n",
    "# print classification report \n",
    "print(classification_report(y_test, grid_predictions))"
   ]
  },
  {
   "cell_type": "code",
   "execution_count": 20,
   "metadata": {},
   "outputs": [
    {
     "output_type": "execute_result",
     "data": {
      "text/plain": "0.8025169612195326"
     },
     "metadata": {},
     "execution_count": 20
    }
   ],
   "source": [
    "from sklearn.preprocessing import StandardScaler\n",
    "\n",
    "scaler = StandardScaler()\n",
    "x_train_scaled = scaler.fit_transform(x_train.astype(np.float32))\n",
    "x_test_scaled = scaler.transform(x_test.astype(np.float32))\n",
    "\n",
    "lin_clf = LinearSVC(random_state=1111)\n",
    "lin_clf.fit(x_train_scaled, y_train)\n",
    "\n",
    "y_pred = lin_clf.predict(x_train_scaled)\n",
    "accuracy_score(y_train, y_pred)"
   ]
  },
  {
   "cell_type": "code",
   "execution_count": 17,
   "metadata": {
    "tags": []
   },
   "outputs": [
    {
     "output_type": "stream",
     "name": "stdout",
     "text": "              precision    recall  f1-score   support\n\n           0       0.80      0.94      0.87     15130\n           1       0.85      0.60      0.70      8748\n\n    accuracy                           0.81     23878\n   macro avg       0.83      0.77      0.78     23878\nweighted avg       0.82      0.81      0.81     23878\n\n0.8147667308819834\n"
    }
   ],
   "source": [
    "#XGBoost\n",
    "\n",
    "from xgboost import XGBClassifier\n",
    "xgb_model = XGBClassifier(criterion = 'giny', learning_rate = 0.01, max_depth = 5, n_estimators = 100,objective ='binary:logistic', subsample=1.0)\n",
    "xgb_model.fit(x_train,y_train)\n",
    "y_pred = xgb_model.predict(x_test)\n",
    "\n",
    "print(classification_report(np.array(y_test),np.array(y_pred)))\n",
    "print(accuracy_score(y_pred,y_test))"
   ]
  }
 ]
}