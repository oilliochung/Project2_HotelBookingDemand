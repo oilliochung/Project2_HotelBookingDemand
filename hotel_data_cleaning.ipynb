{
 "cells": [
  {
   "cell_type": "code",
   "execution_count": 5,
   "metadata": {},
   "outputs": [],
   "source": [
    "import numpy as np\n",
    "import pandas as pd\n",
    "\n",
    "from datetime import datetime\n",
    "import matplotlib.pyplot as plt\n",
    "import seaborn as sns\n",
    "%matplotlib inline"
   ]
  },
  {
   "cell_type": "code",
   "execution_count": 6,
   "metadata": {},
   "outputs": [],
   "source": [
    "hotel1=pd.read_csv(\"H1.csv\")\n",
    "hotel2=pd.read_csv(\"H2.csv\")"
   ]
  },
  {
   "cell_type": "code",
   "execution_count": 7,
   "metadata": {},
   "outputs": [],
   "source": [
    "hotel1['Hotel']= 'Resort Hotel'\n",
    "hotel2['Hotel']= 'City Hotel'"
   ]
  },
  {
   "cell_type": "code",
   "execution_count": 8,
   "metadata": {},
   "outputs": [],
   "source": [
    "hotel = pd.concat([hotel1,hotel2])"
   ]
  },
  {
   "cell_type": "code",
   "execution_count": 9,
   "metadata": {},
   "outputs": [],
   "source": [
    "hotel['ArrivalDateYear'] = hotel['ArrivalDateYear'].astype(str)"
   ]
  },
  {
   "cell_type": "code",
   "execution_count": 10,
   "metadata": {},
   "outputs": [],
   "source": [
    "hotel['ArrivalDateDayOfMonth'] = hotel['ArrivalDateDayOfMonth'].astype(str)"
   ]
  },
  {
   "cell_type": "code",
   "execution_count": 11,
   "metadata": {},
   "outputs": [],
   "source": [
    "#Add new column ArrivalDate \n",
    "hotel['ArrivalDate'] = hotel[['ArrivalDateYear', 'ArrivalDateMonth']].agg('-'.join, axis=1)"
   ]
  },
  {
   "cell_type": "code",
   "execution_count": 12,
   "metadata": {},
   "outputs": [],
   "source": [
    "hotel = hotel[['Hotel','IsCanceled',\n",
    " 'LeadTime',\n",
    " 'ArrivalDate',\n",
    " 'ArrivalDateYear',\n",
    " 'ArrivalDateMonth',\n",
    " 'ArrivalDateWeekNumber',\n",
    " 'ArrivalDateDayOfMonth',\n",
    " 'StaysInWeekendNights',\n",
    " 'StaysInWeekNights',\n",
    " 'Adults',\n",
    " 'Children',\n",
    " 'Babies',\n",
    " 'Meal',\n",
    " 'Country',\n",
    " 'MarketSegment',\n",
    " 'DistributionChannel',\n",
    " 'IsRepeatedGuest',\n",
    " 'PreviousCancellations',\n",
    " 'PreviousBookingsNotCanceled',\n",
    " 'ReservedRoomType',\n",
    " 'AssignedRoomType',\n",
    " 'BookingChanges',\n",
    " 'DepositType',\n",
    " 'Agent',\n",
    " 'Company',\n",
    " 'DaysInWaitingList',\n",
    " 'CustomerType',\n",
    " 'ADR',\n",
    " 'RequiredCarParkingSpaces',\n",
    " 'TotalOfSpecialRequests',\n",
    " 'ReservationStatus',\n",
    " 'ReservationStatusDate']]"
   ]
  },
  {
   "cell_type": "code",
   "execution_count": 13,
   "metadata": {},
   "outputs": [
    {
     "data": {
      "text/html": [
       "<div>\n",
       "<style scoped>\n",
       "    .dataframe tbody tr th:only-of-type {\n",
       "        vertical-align: middle;\n",
       "    }\n",
       "\n",
       "    .dataframe tbody tr th {\n",
       "        vertical-align: top;\n",
       "    }\n",
       "\n",
       "    .dataframe thead th {\n",
       "        text-align: right;\n",
       "    }\n",
       "</style>\n",
       "<table border=\"1\" class=\"dataframe\">\n",
       "  <thead>\n",
       "    <tr style=\"text-align: right;\">\n",
       "      <th></th>\n",
       "      <th>Hotel</th>\n",
       "      <th>IsCanceled</th>\n",
       "      <th>LeadTime</th>\n",
       "      <th>ArrivalDate</th>\n",
       "      <th>ArrivalDateYear</th>\n",
       "      <th>ArrivalDateMonth</th>\n",
       "      <th>ArrivalDateWeekNumber</th>\n",
       "      <th>ArrivalDateDayOfMonth</th>\n",
       "      <th>StaysInWeekendNights</th>\n",
       "      <th>StaysInWeekNights</th>\n",
       "      <th>...</th>\n",
       "      <th>DepositType</th>\n",
       "      <th>Agent</th>\n",
       "      <th>Company</th>\n",
       "      <th>DaysInWaitingList</th>\n",
       "      <th>CustomerType</th>\n",
       "      <th>ADR</th>\n",
       "      <th>RequiredCarParkingSpaces</th>\n",
       "      <th>TotalOfSpecialRequests</th>\n",
       "      <th>ReservationStatus</th>\n",
       "      <th>ReservationStatusDate</th>\n",
       "    </tr>\n",
       "  </thead>\n",
       "  <tbody>\n",
       "    <tr>\n",
       "      <th>0</th>\n",
       "      <td>Resort Hotel</td>\n",
       "      <td>0</td>\n",
       "      <td>342</td>\n",
       "      <td>2015-July</td>\n",
       "      <td>2015</td>\n",
       "      <td>July</td>\n",
       "      <td>27</td>\n",
       "      <td>1</td>\n",
       "      <td>0</td>\n",
       "      <td>0</td>\n",
       "      <td>...</td>\n",
       "      <td>No Deposit</td>\n",
       "      <td>NULL</td>\n",
       "      <td>NULL</td>\n",
       "      <td>0</td>\n",
       "      <td>Transient</td>\n",
       "      <td>0.0</td>\n",
       "      <td>0</td>\n",
       "      <td>0</td>\n",
       "      <td>Check-Out</td>\n",
       "      <td>2015-07-01</td>\n",
       "    </tr>\n",
       "    <tr>\n",
       "      <th>1</th>\n",
       "      <td>Resort Hotel</td>\n",
       "      <td>0</td>\n",
       "      <td>737</td>\n",
       "      <td>2015-July</td>\n",
       "      <td>2015</td>\n",
       "      <td>July</td>\n",
       "      <td>27</td>\n",
       "      <td>1</td>\n",
       "      <td>0</td>\n",
       "      <td>0</td>\n",
       "      <td>...</td>\n",
       "      <td>No Deposit</td>\n",
       "      <td>NULL</td>\n",
       "      <td>NULL</td>\n",
       "      <td>0</td>\n",
       "      <td>Transient</td>\n",
       "      <td>0.0</td>\n",
       "      <td>0</td>\n",
       "      <td>0</td>\n",
       "      <td>Check-Out</td>\n",
       "      <td>2015-07-01</td>\n",
       "    </tr>\n",
       "    <tr>\n",
       "      <th>2</th>\n",
       "      <td>Resort Hotel</td>\n",
       "      <td>0</td>\n",
       "      <td>7</td>\n",
       "      <td>2015-July</td>\n",
       "      <td>2015</td>\n",
       "      <td>July</td>\n",
       "      <td>27</td>\n",
       "      <td>1</td>\n",
       "      <td>0</td>\n",
       "      <td>1</td>\n",
       "      <td>...</td>\n",
       "      <td>No Deposit</td>\n",
       "      <td>NULL</td>\n",
       "      <td>NULL</td>\n",
       "      <td>0</td>\n",
       "      <td>Transient</td>\n",
       "      <td>75.0</td>\n",
       "      <td>0</td>\n",
       "      <td>0</td>\n",
       "      <td>Check-Out</td>\n",
       "      <td>2015-07-02</td>\n",
       "    </tr>\n",
       "    <tr>\n",
       "      <th>3</th>\n",
       "      <td>Resort Hotel</td>\n",
       "      <td>0</td>\n",
       "      <td>13</td>\n",
       "      <td>2015-July</td>\n",
       "      <td>2015</td>\n",
       "      <td>July</td>\n",
       "      <td>27</td>\n",
       "      <td>1</td>\n",
       "      <td>0</td>\n",
       "      <td>1</td>\n",
       "      <td>...</td>\n",
       "      <td>No Deposit</td>\n",
       "      <td>304</td>\n",
       "      <td>NULL</td>\n",
       "      <td>0</td>\n",
       "      <td>Transient</td>\n",
       "      <td>75.0</td>\n",
       "      <td>0</td>\n",
       "      <td>0</td>\n",
       "      <td>Check-Out</td>\n",
       "      <td>2015-07-02</td>\n",
       "    </tr>\n",
       "    <tr>\n",
       "      <th>4</th>\n",
       "      <td>Resort Hotel</td>\n",
       "      <td>0</td>\n",
       "      <td>14</td>\n",
       "      <td>2015-July</td>\n",
       "      <td>2015</td>\n",
       "      <td>July</td>\n",
       "      <td>27</td>\n",
       "      <td>1</td>\n",
       "      <td>0</td>\n",
       "      <td>2</td>\n",
       "      <td>...</td>\n",
       "      <td>No Deposit</td>\n",
       "      <td>240</td>\n",
       "      <td>NULL</td>\n",
       "      <td>0</td>\n",
       "      <td>Transient</td>\n",
       "      <td>98.0</td>\n",
       "      <td>0</td>\n",
       "      <td>1</td>\n",
       "      <td>Check-Out</td>\n",
       "      <td>2015-07-03</td>\n",
       "    </tr>\n",
       "  </tbody>\n",
       "</table>\n",
       "<p>5 rows × 33 columns</p>\n",
       "</div>"
      ],
      "text/plain": [
       "          Hotel  IsCanceled  LeadTime ArrivalDate ArrivalDateYear  \\\n",
       "0  Resort Hotel           0       342   2015-July            2015   \n",
       "1  Resort Hotel           0       737   2015-July            2015   \n",
       "2  Resort Hotel           0         7   2015-July            2015   \n",
       "3  Resort Hotel           0        13   2015-July            2015   \n",
       "4  Resort Hotel           0        14   2015-July            2015   \n",
       "\n",
       "  ArrivalDateMonth  ArrivalDateWeekNumber ArrivalDateDayOfMonth  \\\n",
       "0             July                     27                     1   \n",
       "1             July                     27                     1   \n",
       "2             July                     27                     1   \n",
       "3             July                     27                     1   \n",
       "4             July                     27                     1   \n",
       "\n",
       "   StaysInWeekendNights  StaysInWeekNights  ...      DepositType        Agent  \\\n",
       "0                     0                  0  ...  No Deposit              NULL   \n",
       "1                     0                  0  ...  No Deposit              NULL   \n",
       "2                     0                  1  ...  No Deposit              NULL   \n",
       "3                     0                  1  ...  No Deposit               304   \n",
       "4                     0                  2  ...  No Deposit               240   \n",
       "\n",
       "       Company DaysInWaitingList CustomerType   ADR RequiredCarParkingSpaces  \\\n",
       "0         NULL                 0    Transient   0.0                        0   \n",
       "1         NULL                 0    Transient   0.0                        0   \n",
       "2         NULL                 0    Transient  75.0                        0   \n",
       "3         NULL                 0    Transient  75.0                        0   \n",
       "4         NULL                 0    Transient  98.0                        0   \n",
       "\n",
       "   TotalOfSpecialRequests  ReservationStatus  ReservationStatusDate  \n",
       "0                       0          Check-Out             2015-07-01  \n",
       "1                       0          Check-Out             2015-07-01  \n",
       "2                       0          Check-Out             2015-07-02  \n",
       "3                       0          Check-Out             2015-07-02  \n",
       "4                       1          Check-Out             2015-07-03  \n",
       "\n",
       "[5 rows x 33 columns]"
      ]
     },
     "execution_count": 13,
     "metadata": {},
     "output_type": "execute_result"
    }
   ],
   "source": [
    "hotel.head()"
   ]
  },
  {
   "cell_type": "code",
   "execution_count": 14,
   "metadata": {
    "tags": []
   },
   "outputs": [
    {
     "name": "stdout",
     "output_type": "stream",
     "text": [
      "&lt;class &#39;pandas.core.frame.DataFrame&#39;&gt;\n",
      "Int64Index: 119390 entries, 0 to 79329\n",
      "Data columns (total 33 columns):\n",
      " #   Column                       Non-Null Count   Dtype  \n",
      "---  ------                       --------------   -----  \n",
      " 0   Hotel                        119390 non-null  object \n",
      " 1   IsCanceled                   119390 non-null  int64  \n",
      " 2   LeadTime                     119390 non-null  int64  \n",
      " 3   ArrivalDate                  119390 non-null  object \n",
      " 4   ArrivalDateYear              119390 non-null  object \n",
      " 5   ArrivalDateMonth             119390 non-null  object \n",
      " 6   ArrivalDateWeekNumber        119390 non-null  int64  \n",
      " 7   ArrivalDateDayOfMonth        119390 non-null  object \n",
      " 8   StaysInWeekendNights         119390 non-null  int64  \n",
      " 9   StaysInWeekNights            119390 non-null  int64  \n",
      " 10  Adults                       119390 non-null  int64  \n",
      " 11  Children                     119386 non-null  float64\n",
      " 12  Babies                       119390 non-null  int64  \n",
      " 13  Meal                         119390 non-null  object \n",
      " 14  Country                      118902 non-null  object \n",
      " 15  MarketSegment                119390 non-null  object \n",
      " 16  DistributionChannel          119390 non-null  object \n",
      " 17  IsRepeatedGuest              119390 non-null  int64  \n",
      " 18  PreviousCancellations        119390 non-null  int64  \n",
      " 19  PreviousBookingsNotCanceled  119390 non-null  int64  \n",
      " 20  ReservedRoomType             119390 non-null  object \n",
      " 21  AssignedRoomType             119390 non-null  object \n",
      " 22  BookingChanges               119390 non-null  int64  \n",
      " 23  DepositType                  119390 non-null  object \n",
      " 24  Agent                        119390 non-null  object \n",
      " 25  Company                      119390 non-null  object \n",
      " 26  DaysInWaitingList            119390 non-null  int64  \n",
      " 27  CustomerType                 119390 non-null  object \n",
      " 28  ADR                          119390 non-null  float64\n",
      " 29  RequiredCarParkingSpaces     119390 non-null  int64  \n",
      " 30  TotalOfSpecialRequests       119390 non-null  int64  \n",
      " 31  ReservationStatus            119390 non-null  object \n",
      " 32  ReservationStatusDate        119390 non-null  object \n",
      "dtypes: float64(2), int64(14), object(17)\n",
      "memory usage: 31.0+ MB\n"
     ]
    }
   ],
   "source": [
    "hotel.info()"
   ]
  },
  {
   "cell_type": "code",
   "execution_count": 15,
   "metadata": {},
   "outputs": [],
   "source": [
    "#Clearing the spaces \n",
    "hotel['Agent'] = hotel['Agent'].str.strip()\n",
    "hotel['Company'] = hotel['Company'].str.strip()\n",
    "hotel['ReservedRoomType'] = hotel['ReservedRoomType'].str.strip()\n",
    "hotel['AssignedRoomType'] = hotel['AssignedRoomType'].str.strip()"
   ]
  },
  {
   "cell_type": "code",
   "execution_count": 16,
   "metadata": {
    "tags": []
   },
   "outputs": [
    {
     "name": "stdout",
     "output_type": "stream",
     "text": [
      "16340\n"
     ]
    }
   ],
   "source": [
    "#Imputing missing values\n",
    "print(hotel['Agent'].isin(['NULL']).sum())"
   ]
  },
  {
   "cell_type": "code",
   "execution_count": 17,
   "metadata": {},
   "outputs": [],
   "source": [
    "#Agent"
   ]
  },
  {
   "cell_type": "code",
   "execution_count": 18,
   "metadata": {},
   "outputs": [],
   "source": [
    "hotel['Agent']=hotel['Agent'].replace('NULL','0')"
   ]
  },
  {
   "cell_type": "code",
   "execution_count": 19,
   "metadata": {},
   "outputs": [],
   "source": [
    "#Country"
   ]
  },
  {
   "cell_type": "code",
   "execution_count": 20,
   "metadata": {},
   "outputs": [
    {
     "data": {
      "text/plain": [
       "488"
      ]
     },
     "execution_count": 20,
     "metadata": {},
     "output_type": "execute_result"
    }
   ],
   "source": [
    "hotel.Country.isna().sum()"
   ]
  },
  {
   "cell_type": "code",
   "execution_count": 21,
   "metadata": {},
   "outputs": [],
   "source": [
    "hotel.Country.fillna('Unknown', inplace=True)"
   ]
  },
  {
   "cell_type": "code",
   "execution_count": 22,
   "metadata": {},
   "outputs": [
    {
     "data": {
      "text/plain": [
       "0"
      ]
     },
     "execution_count": 22,
     "metadata": {},
     "output_type": "execute_result"
    }
   ],
   "source": [
    "hotel.Country.isna().sum()"
   ]
  },
  {
   "cell_type": "code",
   "execution_count": 23,
   "metadata": {},
   "outputs": [],
   "source": [
    "#Children"
   ]
  },
  {
   "cell_type": "code",
   "execution_count": 24,
   "metadata": {},
   "outputs": [],
   "source": [
    "hotel.Children.fillna(0.0, inplace=True)"
   ]
  },
  {
   "cell_type": "code",
   "execution_count": 25,
   "metadata": {},
   "outputs": [],
   "source": [
    "#Company"
   ]
  },
  {
   "cell_type": "code",
   "execution_count": 26,
   "metadata": {},
   "outputs": [
    {
     "data": {
      "text/plain": [
       "112593"
      ]
     },
     "execution_count": 26,
     "metadata": {},
     "output_type": "execute_result"
    }
   ],
   "source": [
    "hotel['Company'].isin(['NULL']).sum()"
   ]
  },
  {
   "cell_type": "code",
   "execution_count": 27,
   "metadata": {},
   "outputs": [],
   "source": [
    "hotel['Company']=hotel['Company'].replace('NULL','000')"
   ]
  },
  {
   "cell_type": "code",
   "execution_count": 28,
   "metadata": {},
   "outputs": [],
   "source": [
    "#adr"
   ]
  },
  {
   "cell_type": "code",
   "execution_count": 29,
   "metadata": {},
   "outputs": [],
   "source": [
    "hotel['ADR']=hotel['ADR'].replace(0.0, np.nan)"
   ]
  },
  {
   "cell_type": "code",
   "execution_count": 30,
   "metadata": {},
   "outputs": [
    {
     "data": {
      "text/plain": [
       "1959"
      ]
     },
     "execution_count": 30,
     "metadata": {},
     "output_type": "execute_result"
    }
   ],
   "source": [
    "hotel['ADR'].isna().sum()"
   ]
  },
  {
   "cell_type": "code",
   "execution_count": 31,
   "metadata": {},
   "outputs": [],
   "source": [
    "hotel['ADR'].fillna(hotel['ADR'].mean(),inplace=True)"
   ]
  },
  {
   "cell_type": "code",
   "execution_count": 32,
   "metadata": {},
   "outputs": [],
   "source": [
    "hotel.to_csv(\"hotel_for_EDA.csv\",index=False)"
   ]
  },
  {
   "cell_type": "code",
   "execution_count": 33,
   "metadata": {},
   "outputs": [],
   "source": [
    "#Encoding with get_dummies"
   ]
  },
  {
   "cell_type": "code",
   "execution_count": 34,
   "metadata": {},
   "outputs": [],
   "source": [
    "dummy = pd.get_dummies(hotel[['Hotel','Meal','MarketSegment','DistributionChannel','DepositType',\n",
    "                              'CustomerType']])"
   ]
  },
  {
   "cell_type": "code",
   "execution_count": 35,
   "metadata": {},
   "outputs": [],
   "source": [
    "hotel_encoded = pd.concat([hotel,dummy], axis=1)"
   ]
  },
  {
   "cell_type": "code",
   "execution_count": 36,
   "metadata": {},
   "outputs": [],
   "source": [
    "hotel_encoded.drop(['Hotel','Meal','MarketSegment','DistributionChannel','DepositType',\n",
    "                              'CustomerType'], axis=1,inplace=True)"
   ]
  },
  {
   "cell_type": "code",
   "execution_count": 37,
   "metadata": {
    "tags": []
   },
   "outputs": [
    {
     "name": "stdout",
     "output_type": "stream",
     "text": [
      "&lt;class &#39;pandas.core.frame.DataFrame&#39;&gt;\n",
      "Int64Index: 119390 entries, 0 to 79329\n",
      "Data columns (total 54 columns):\n",
      " #   Column                         Non-Null Count   Dtype  \n",
      "---  ------                         --------------   -----  \n",
      " 0   IsCanceled                     119390 non-null  int64  \n",
      " 1   LeadTime                       119390 non-null  int64  \n",
      " 2   ArrivalDate                    119390 non-null  object \n",
      " 3   ArrivalDateYear                119390 non-null  object \n",
      " 4   ArrivalDateMonth               119390 non-null  object \n",
      " 5   ArrivalDateWeekNumber          119390 non-null  int64  \n",
      " 6   ArrivalDateDayOfMonth          119390 non-null  object \n",
      " 7   StaysInWeekendNights           119390 non-null  int64  \n",
      " 8   StaysInWeekNights              119390 non-null  int64  \n",
      " 9   Adults                         119390 non-null  int64  \n",
      " 10  Children                       119390 non-null  float64\n",
      " 11  Babies                         119390 non-null  int64  \n",
      " 12  Country                        119390 non-null  object \n",
      " 13  IsRepeatedGuest                119390 non-null  int64  \n",
      " 14  PreviousCancellations          119390 non-null  int64  \n",
      " 15  PreviousBookingsNotCanceled    119390 non-null  int64  \n",
      " 16  ReservedRoomType               119390 non-null  object \n",
      " 17  AssignedRoomType               119390 non-null  object \n",
      " 18  BookingChanges                 119390 non-null  int64  \n",
      " 19  Agent                          119390 non-null  object \n",
      " 20  Company                        119390 non-null  object \n",
      " 21  DaysInWaitingList              119390 non-null  int64  \n",
      " 22  ADR                            119390 non-null  float64\n",
      " 23  RequiredCarParkingSpaces       119390 non-null  int64  \n",
      " 24  TotalOfSpecialRequests         119390 non-null  int64  \n",
      " 25  ReservationStatus              119390 non-null  object \n",
      " 26  ReservationStatusDate          119390 non-null  object \n",
      " 27  Hotel_City Hotel               119390 non-null  uint8  \n",
      " 28  Hotel_Resort Hotel             119390 non-null  uint8  \n",
      " 29  Meal_BB                        119390 non-null  uint8  \n",
      " 30  Meal_FB                        119390 non-null  uint8  \n",
      " 31  Meal_HB                        119390 non-null  uint8  \n",
      " 32  Meal_SC                        119390 non-null  uint8  \n",
      " 33  Meal_Undefined                 119390 non-null  uint8  \n",
      " 34  MarketSegment_Aviation         119390 non-null  uint8  \n",
      " 35  MarketSegment_Complementary    119390 non-null  uint8  \n",
      " 36  MarketSegment_Corporate        119390 non-null  uint8  \n",
      " 37  MarketSegment_Direct           119390 non-null  uint8  \n",
      " 38  MarketSegment_Groups           119390 non-null  uint8  \n",
      " 39  MarketSegment_Offline TA/TO    119390 non-null  uint8  \n",
      " 40  MarketSegment_Online TA        119390 non-null  uint8  \n",
      " 41  MarketSegment_Undefined        119390 non-null  uint8  \n",
      " 42  DistributionChannel_Corporate  119390 non-null  uint8  \n",
      " 43  DistributionChannel_Direct     119390 non-null  uint8  \n",
      " 44  DistributionChannel_GDS        119390 non-null  uint8  \n",
      " 45  DistributionChannel_TA/TO      119390 non-null  uint8  \n",
      " 46  DistributionChannel_Undefined  119390 non-null  uint8  \n",
      " 47  DepositType_No Deposit         119390 non-null  uint8  \n",
      " 48  DepositType_Non Refund         119390 non-null  uint8  \n",
      " 49  DepositType_Refundable         119390 non-null  uint8  \n",
      " 50  CustomerType_Contract          119390 non-null  uint8  \n",
      " 51  CustomerType_Group             119390 non-null  uint8  \n",
      " 52  CustomerType_Transient         119390 non-null  uint8  \n",
      " 53  CustomerType_Transient-Party   119390 non-null  uint8  \n",
      "dtypes: float64(2), int64(14), object(11), uint8(27)\n",
      "memory usage: 28.6+ MB\n"
     ]
    }
   ],
   "source": [
    "hotel_encoded.info()"
   ]
  },
  {
   "cell_type": "code",
   "execution_count": 38,
   "metadata": {},
   "outputs": [],
   "source": [
    "#Encoding with ordinal_encoder"
   ]
  },
  {
   "cell_type": "code",
   "execution_count": 39,
   "metadata": {},
   "outputs": [],
   "source": [
    "from sklearn.preprocessing import OrdinalEncoder\n",
    "enc = OrdinalEncoder()"
   ]
  },
  {
   "cell_type": "code",
   "execution_count": 40,
   "metadata": {},
   "outputs": [],
   "source": [
    "#Agent"
   ]
  },
  {
   "cell_type": "code",
   "execution_count": 41,
   "metadata": {},
   "outputs": [],
   "source": [
    "hotel_encoded['Agent'] = enc.fit_transform(hotel_encoded[['Agent']])"
   ]
  },
  {
   "cell_type": "code",
   "execution_count": 42,
   "metadata": {},
   "outputs": [],
   "source": [
    "#Company"
   ]
  },
  {
   "cell_type": "code",
   "execution_count": 43,
   "metadata": {},
   "outputs": [],
   "source": [
    "hotel_encoded['Company'] =  enc.fit_transform(hotel_encoded[['Company']])"
   ]
  },
  {
   "cell_type": "code",
   "execution_count": 44,
   "metadata": {},
   "outputs": [],
   "source": [
    "#Country"
   ]
  },
  {
   "cell_type": "code",
   "execution_count": 45,
   "metadata": {},
   "outputs": [],
   "source": [
    "hotel_encoded['Country']=enc.fit_transform(hotel_encoded[['Country']])"
   ]
  },
  {
   "cell_type": "code",
   "execution_count": 46,
   "metadata": {},
   "outputs": [],
   "source": [
    "#Mapping"
   ]
  },
  {
   "cell_type": "code",
   "execution_count": 47,
   "metadata": {},
   "outputs": [],
   "source": [
    "months = {'January': 0,'February':1, 'March':2,'April':3,'May':4,'June':5,'July':6,\n",
    "         'August':7,'September':8,'October':9,'November':10, 'December':11}\n",
    "rooms = {'A':0,'B':1,'C':2,'D':3,'E':4,'F':5,'G':6,'H':7,'I':8,'K':9,'L':10,'P':11}"
   ]
  },
  {
   "cell_type": "code",
   "execution_count": 48,
   "metadata": {},
   "outputs": [],
   "source": [
    "hotel_encoded['ArrivalDateMonth'] = hotel_encoded[['ArrivalDateMonth']].applymap(lambda x: months[x])"
   ]
  },
  {
   "cell_type": "code",
   "execution_count": 49,
   "metadata": {},
   "outputs": [],
   "source": [
    "hotel_encoded['ReservedRoomType'] = hotel_encoded[['ReservedRoomType']].applymap(lambda x: rooms[x])\n",
    "hotel_encoded['AssignedRoomType'] = hotel_encoded[['AssignedRoomType']].applymap(lambda x: rooms[x])\n"
   ]
  },
  {
   "cell_type": "code",
   "execution_count": 50,
   "metadata": {
    "tags": []
   },
   "outputs": [
    {
     "name": "stdout",
     "output_type": "stream",
     "text": [
      "&lt;class &#39;pandas.core.frame.DataFrame&#39;&gt;\n",
      "Int64Index: 119390 entries, 0 to 79329\n",
      "Data columns (total 54 columns):\n",
      " #   Column                         Non-Null Count   Dtype  \n",
      "---  ------                         --------------   -----  \n",
      " 0   IsCanceled                     119390 non-null  int64  \n",
      " 1   LeadTime                       119390 non-null  int64  \n",
      " 2   ArrivalDate                    119390 non-null  object \n",
      " 3   ArrivalDateYear                119390 non-null  object \n",
      " 4   ArrivalDateMonth               119390 non-null  int64  \n",
      " 5   ArrivalDateWeekNumber          119390 non-null  int64  \n",
      " 6   ArrivalDateDayOfMonth          119390 non-null  object \n",
      " 7   StaysInWeekendNights           119390 non-null  int64  \n",
      " 8   StaysInWeekNights              119390 non-null  int64  \n",
      " 9   Adults                         119390 non-null  int64  \n",
      " 10  Children                       119390 non-null  float64\n",
      " 11  Babies                         119390 non-null  int64  \n",
      " 12  Country                        119390 non-null  float64\n",
      " 13  IsRepeatedGuest                119390 non-null  int64  \n",
      " 14  PreviousCancellations          119390 non-null  int64  \n",
      " 15  PreviousBookingsNotCanceled    119390 non-null  int64  \n",
      " 16  ReservedRoomType               119390 non-null  int64  \n",
      " 17  AssignedRoomType               119390 non-null  int64  \n",
      " 18  BookingChanges                 119390 non-null  int64  \n",
      " 19  Agent                          119390 non-null  float64\n",
      " 20  Company                        119390 non-null  float64\n",
      " 21  DaysInWaitingList              119390 non-null  int64  \n",
      " 22  ADR                            119390 non-null  float64\n",
      " 23  RequiredCarParkingSpaces       119390 non-null  int64  \n",
      " 24  TotalOfSpecialRequests         119390 non-null  int64  \n",
      " 25  ReservationStatus              119390 non-null  object \n",
      " 26  ReservationStatusDate          119390 non-null  object \n",
      " 27  Hotel_City Hotel               119390 non-null  uint8  \n",
      " 28  Hotel_Resort Hotel             119390 non-null  uint8  \n",
      " 29  Meal_BB                        119390 non-null  uint8  \n",
      " 30  Meal_FB                        119390 non-null  uint8  \n",
      " 31  Meal_HB                        119390 non-null  uint8  \n",
      " 32  Meal_SC                        119390 non-null  uint8  \n",
      " 33  Meal_Undefined                 119390 non-null  uint8  \n",
      " 34  MarketSegment_Aviation         119390 non-null  uint8  \n",
      " 35  MarketSegment_Complementary    119390 non-null  uint8  \n",
      " 36  MarketSegment_Corporate        119390 non-null  uint8  \n",
      " 37  MarketSegment_Direct           119390 non-null  uint8  \n",
      " 38  MarketSegment_Groups           119390 non-null  uint8  \n",
      " 39  MarketSegment_Offline TA/TO    119390 non-null  uint8  \n",
      " 40  MarketSegment_Online TA        119390 non-null  uint8  \n",
      " 41  MarketSegment_Undefined        119390 non-null  uint8  \n",
      " 42  DistributionChannel_Corporate  119390 non-null  uint8  \n",
      " 43  DistributionChannel_Direct     119390 non-null  uint8  \n",
      " 44  DistributionChannel_GDS        119390 non-null  uint8  \n",
      " 45  DistributionChannel_TA/TO      119390 non-null  uint8  \n",
      " 46  DistributionChannel_Undefined  119390 non-null  uint8  \n",
      " 47  DepositType_No Deposit         119390 non-null  uint8  \n",
      " 48  DepositType_Non Refund         119390 non-null  uint8  \n",
      " 49  DepositType_Refundable         119390 non-null  uint8  \n",
      " 50  CustomerType_Contract          119390 non-null  uint8  \n",
      " 51  CustomerType_Group             119390 non-null  uint8  \n",
      " 52  CustomerType_Transient         119390 non-null  uint8  \n",
      " 53  CustomerType_Transient-Party   119390 non-null  uint8  \n",
      "dtypes: float64(5), int64(17), object(5), uint8(27)\n",
      "memory usage: 28.6+ MB\n"
     ]
    }
   ],
   "source": [
    "hotel_encoded.info()"
   ]
  },
  {
   "cell_type": "code",
   "execution_count": 51,
   "metadata": {},
   "outputs": [
    {
     "data": {
      "text/html": [
       "<div>\n",
       "<style scoped>\n",
       "    .dataframe tbody tr th:only-of-type {\n",
       "        vertical-align: middle;\n",
       "    }\n",
       "\n",
       "    .dataframe tbody tr th {\n",
       "        vertical-align: top;\n",
       "    }\n",
       "\n",
       "    .dataframe thead th {\n",
       "        text-align: right;\n",
       "    }\n",
       "</style>\n",
       "<table border=\"1\" class=\"dataframe\">\n",
       "  <thead>\n",
       "    <tr style=\"text-align: right;\">\n",
       "      <th></th>\n",
       "      <th>IsCanceled</th>\n",
       "      <th>LeadTime</th>\n",
       "      <th>ArrivalDate</th>\n",
       "      <th>ArrivalDateYear</th>\n",
       "      <th>ArrivalDateMonth</th>\n",
       "      <th>ArrivalDateWeekNumber</th>\n",
       "      <th>ArrivalDateDayOfMonth</th>\n",
       "      <th>StaysInWeekendNights</th>\n",
       "      <th>StaysInWeekNights</th>\n",
       "      <th>Adults</th>\n",
       "      <th>Children</th>\n",
       "      <th>Babies</th>\n",
       "      <th>Country</th>\n",
       "      <th>IsRepeatedGuest</th>\n",
       "      <th>PreviousCancellations</th>\n",
       "      <th>PreviousBookingsNotCanceled</th>\n",
       "      <th>ReservedRoomType</th>\n",
       "      <th>AssignedRoomType</th>\n",
       "      <th>BookingChanges</th>\n",
       "      <th>Agent</th>\n",
       "      <th>Company</th>\n",
       "      <th>DaysInWaitingList</th>\n",
       "      <th>ADR</th>\n",
       "      <th>RequiredCarParkingSpaces</th>\n",
       "      <th>TotalOfSpecialRequests</th>\n",
       "      <th>ReservationStatus</th>\n",
       "      <th>ReservationStatusDate</th>\n",
       "      <th>Hotel_City Hotel</th>\n",
       "      <th>Hotel_Resort Hotel</th>\n",
       "      <th>Meal_BB</th>\n",
       "      <th>Meal_FB</th>\n",
       "      <th>Meal_HB</th>\n",
       "      <th>Meal_SC</th>\n",
       "      <th>Meal_Undefined</th>\n",
       "      <th>MarketSegment_Aviation</th>\n",
       "      <th>MarketSegment_Complementary</th>\n",
       "      <th>MarketSegment_Corporate</th>\n",
       "      <th>MarketSegment_Direct</th>\n",
       "      <th>MarketSegment_Groups</th>\n",
       "      <th>MarketSegment_Offline TA/TO</th>\n",
       "      <th>MarketSegment_Online TA</th>\n",
       "      <th>MarketSegment_Undefined</th>\n",
       "      <th>DistributionChannel_Corporate</th>\n",
       "      <th>DistributionChannel_Direct</th>\n",
       "      <th>DistributionChannel_GDS</th>\n",
       "      <th>DistributionChannel_TA/TO</th>\n",
       "      <th>DistributionChannel_Undefined</th>\n",
       "      <th>DepositType_No Deposit</th>\n",
       "      <th>DepositType_Non Refund</th>\n",
       "      <th>DepositType_Refundable</th>\n",
       "      <th>CustomerType_Contract</th>\n",
       "      <th>CustomerType_Group</th>\n",
       "      <th>CustomerType_Transient</th>\n",
       "      <th>CustomerType_Transient-Party</th>\n",
       "    </tr>\n",
       "  </thead>\n",
       "  <tbody>\n",
       "    <tr>\n",
       "      <th>0</th>\n",
       "      <td>0</td>\n",
       "      <td>342</td>\n",
       "      <td>2015-July</td>\n",
       "      <td>2015</td>\n",
       "      <td>6</td>\n",
       "      <td>27</td>\n",
       "      <td>1</td>\n",
       "      <td>0</td>\n",
       "      <td>0</td>\n",
       "      <td>2</td>\n",
       "      <td>0.0</td>\n",
       "      <td>0</td>\n",
       "      <td>135.0</td>\n",
       "      <td>0</td>\n",
       "      <td>0</td>\n",
       "      <td>0</td>\n",
       "      <td>2</td>\n",
       "      <td>2</td>\n",
       "      <td>3</td>\n",
       "      <td>0.0</td>\n",
       "      <td>0.0</td>\n",
       "      <td>0</td>\n",
       "      <td>103.529882</td>\n",
       "      <td>0</td>\n",
       "      <td>0</td>\n",
       "      <td>Check-Out</td>\n",
       "      <td>2015-07-01</td>\n",
       "      <td>0</td>\n",
       "      <td>1</td>\n",
       "      <td>1</td>\n",
       "      <td>0</td>\n",
       "      <td>0</td>\n",
       "      <td>0</td>\n",
       "      <td>0</td>\n",
       "      <td>0</td>\n",
       "      <td>0</td>\n",
       "      <td>0</td>\n",
       "      <td>1</td>\n",
       "      <td>0</td>\n",
       "      <td>0</td>\n",
       "      <td>0</td>\n",
       "      <td>0</td>\n",
       "      <td>0</td>\n",
       "      <td>1</td>\n",
       "      <td>0</td>\n",
       "      <td>0</td>\n",
       "      <td>0</td>\n",
       "      <td>1</td>\n",
       "      <td>0</td>\n",
       "      <td>0</td>\n",
       "      <td>0</td>\n",
       "      <td>0</td>\n",
       "      <td>1</td>\n",
       "      <td>0</td>\n",
       "    </tr>\n",
       "    <tr>\n",
       "      <th>1</th>\n",
       "      <td>0</td>\n",
       "      <td>737</td>\n",
       "      <td>2015-July</td>\n",
       "      <td>2015</td>\n",
       "      <td>6</td>\n",
       "      <td>27</td>\n",
       "      <td>1</td>\n",
       "      <td>0</td>\n",
       "      <td>0</td>\n",
       "      <td>2</td>\n",
       "      <td>0.0</td>\n",
       "      <td>0</td>\n",
       "      <td>135.0</td>\n",
       "      <td>0</td>\n",
       "      <td>0</td>\n",
       "      <td>0</td>\n",
       "      <td>2</td>\n",
       "      <td>2</td>\n",
       "      <td>4</td>\n",
       "      <td>0.0</td>\n",
       "      <td>0.0</td>\n",
       "      <td>0</td>\n",
       "      <td>103.529882</td>\n",
       "      <td>0</td>\n",
       "      <td>0</td>\n",
       "      <td>Check-Out</td>\n",
       "      <td>2015-07-01</td>\n",
       "      <td>0</td>\n",
       "      <td>1</td>\n",
       "      <td>1</td>\n",
       "      <td>0</td>\n",
       "      <td>0</td>\n",
       "      <td>0</td>\n",
       "      <td>0</td>\n",
       "      <td>0</td>\n",
       "      <td>0</td>\n",
       "      <td>0</td>\n",
       "      <td>1</td>\n",
       "      <td>0</td>\n",
       "      <td>0</td>\n",
       "      <td>0</td>\n",
       "      <td>0</td>\n",
       "      <td>0</td>\n",
       "      <td>1</td>\n",
       "      <td>0</td>\n",
       "      <td>0</td>\n",
       "      <td>0</td>\n",
       "      <td>1</td>\n",
       "      <td>0</td>\n",
       "      <td>0</td>\n",
       "      <td>0</td>\n",
       "      <td>0</td>\n",
       "      <td>1</td>\n",
       "      <td>0</td>\n",
       "    </tr>\n",
       "    <tr>\n",
       "      <th>2</th>\n",
       "      <td>0</td>\n",
       "      <td>7</td>\n",
       "      <td>2015-July</td>\n",
       "      <td>2015</td>\n",
       "      <td>6</td>\n",
       "      <td>27</td>\n",
       "      <td>1</td>\n",
       "      <td>0</td>\n",
       "      <td>1</td>\n",
       "      <td>1</td>\n",
       "      <td>0.0</td>\n",
       "      <td>0</td>\n",
       "      <td>59.0</td>\n",
       "      <td>0</td>\n",
       "      <td>0</td>\n",
       "      <td>0</td>\n",
       "      <td>0</td>\n",
       "      <td>2</td>\n",
       "      <td>0</td>\n",
       "      <td>0.0</td>\n",
       "      <td>0.0</td>\n",
       "      <td>0</td>\n",
       "      <td>75.000000</td>\n",
       "      <td>0</td>\n",
       "      <td>0</td>\n",
       "      <td>Check-Out</td>\n",
       "      <td>2015-07-02</td>\n",
       "      <td>0</td>\n",
       "      <td>1</td>\n",
       "      <td>1</td>\n",
       "      <td>0</td>\n",
       "      <td>0</td>\n",
       "      <td>0</td>\n",
       "      <td>0</td>\n",
       "      <td>0</td>\n",
       "      <td>0</td>\n",
       "      <td>0</td>\n",
       "      <td>1</td>\n",
       "      <td>0</td>\n",
       "      <td>0</td>\n",
       "      <td>0</td>\n",
       "      <td>0</td>\n",
       "      <td>0</td>\n",
       "      <td>1</td>\n",
       "      <td>0</td>\n",
       "      <td>0</td>\n",
       "      <td>0</td>\n",
       "      <td>1</td>\n",
       "      <td>0</td>\n",
       "      <td>0</td>\n",
       "      <td>0</td>\n",
       "      <td>0</td>\n",
       "      <td>1</td>\n",
       "      <td>0</td>\n",
       "    </tr>\n",
       "    <tr>\n",
       "      <th>3</th>\n",
       "      <td>0</td>\n",
       "      <td>13</td>\n",
       "      <td>2015-July</td>\n",
       "      <td>2015</td>\n",
       "      <td>6</td>\n",
       "      <td>27</td>\n",
       "      <td>1</td>\n",
       "      <td>0</td>\n",
       "      <td>1</td>\n",
       "      <td>1</td>\n",
       "      <td>0.0</td>\n",
       "      <td>0</td>\n",
       "      <td>59.0</td>\n",
       "      <td>0</td>\n",
       "      <td>0</td>\n",
       "      <td>0</td>\n",
       "      <td>0</td>\n",
       "      <td>0</td>\n",
       "      <td>0</td>\n",
       "      <td>157.0</td>\n",
       "      <td>0.0</td>\n",
       "      <td>0</td>\n",
       "      <td>75.000000</td>\n",
       "      <td>0</td>\n",
       "      <td>0</td>\n",
       "      <td>Check-Out</td>\n",
       "      <td>2015-07-02</td>\n",
       "      <td>0</td>\n",
       "      <td>1</td>\n",
       "      <td>1</td>\n",
       "      <td>0</td>\n",
       "      <td>0</td>\n",
       "      <td>0</td>\n",
       "      <td>0</td>\n",
       "      <td>0</td>\n",
       "      <td>0</td>\n",
       "      <td>1</td>\n",
       "      <td>0</td>\n",
       "      <td>0</td>\n",
       "      <td>0</td>\n",
       "      <td>0</td>\n",
       "      <td>0</td>\n",
       "      <td>1</td>\n",
       "      <td>0</td>\n",
       "      <td>0</td>\n",
       "      <td>0</td>\n",
       "      <td>0</td>\n",
       "      <td>1</td>\n",
       "      <td>0</td>\n",
       "      <td>0</td>\n",
       "      <td>0</td>\n",
       "      <td>0</td>\n",
       "      <td>1</td>\n",
       "      <td>0</td>\n",
       "    </tr>\n",
       "    <tr>\n",
       "      <th>4</th>\n",
       "      <td>0</td>\n",
       "      <td>14</td>\n",
       "      <td>2015-July</td>\n",
       "      <td>2015</td>\n",
       "      <td>6</td>\n",
       "      <td>27</td>\n",
       "      <td>1</td>\n",
       "      <td>0</td>\n",
       "      <td>2</td>\n",
       "      <td>2</td>\n",
       "      <td>0.0</td>\n",
       "      <td>0</td>\n",
       "      <td>59.0</td>\n",
       "      <td>0</td>\n",
       "      <td>0</td>\n",
       "      <td>0</td>\n",
       "      <td>0</td>\n",
       "      <td>0</td>\n",
       "      <td>0</td>\n",
       "      <td>103.0</td>\n",
       "      <td>0.0</td>\n",
       "      <td>0</td>\n",
       "      <td>98.000000</td>\n",
       "      <td>0</td>\n",
       "      <td>1</td>\n",
       "      <td>Check-Out</td>\n",
       "      <td>2015-07-03</td>\n",
       "      <td>0</td>\n",
       "      <td>1</td>\n",
       "      <td>1</td>\n",
       "      <td>0</td>\n",
       "      <td>0</td>\n",
       "      <td>0</td>\n",
       "      <td>0</td>\n",
       "      <td>0</td>\n",
       "      <td>0</td>\n",
       "      <td>0</td>\n",
       "      <td>0</td>\n",
       "      <td>0</td>\n",
       "      <td>0</td>\n",
       "      <td>1</td>\n",
       "      <td>0</td>\n",
       "      <td>0</td>\n",
       "      <td>0</td>\n",
       "      <td>0</td>\n",
       "      <td>1</td>\n",
       "      <td>0</td>\n",
       "      <td>1</td>\n",
       "      <td>0</td>\n",
       "      <td>0</td>\n",
       "      <td>0</td>\n",
       "      <td>0</td>\n",
       "      <td>1</td>\n",
       "      <td>0</td>\n",
       "    </tr>\n",
       "  </tbody>\n",
       "</table>\n",
       "</div>"
      ],
      "text/plain": [
       "   IsCanceled  LeadTime ArrivalDate ArrivalDateYear  ArrivalDateMonth  \\\n",
       "0           0       342   2015-July            2015                 6   \n",
       "1           0       737   2015-July            2015                 6   \n",
       "2           0         7   2015-July            2015                 6   \n",
       "3           0        13   2015-July            2015                 6   \n",
       "4           0        14   2015-July            2015                 6   \n",
       "\n",
       "   ArrivalDateWeekNumber ArrivalDateDayOfMonth  StaysInWeekendNights  \\\n",
       "0                     27                     1                     0   \n",
       "1                     27                     1                     0   \n",
       "2                     27                     1                     0   \n",
       "3                     27                     1                     0   \n",
       "4                     27                     1                     0   \n",
       "\n",
       "   StaysInWeekNights  Adults  Children  Babies  Country  IsRepeatedGuest  \\\n",
       "0                  0       2       0.0       0    135.0                0   \n",
       "1                  0       2       0.0       0    135.0                0   \n",
       "2                  1       1       0.0       0     59.0                0   \n",
       "3                  1       1       0.0       0     59.0                0   \n",
       "4                  2       2       0.0       0     59.0                0   \n",
       "\n",
       "   PreviousCancellations  PreviousBookingsNotCanceled  ReservedRoomType  \\\n",
       "0                      0                            0                 2   \n",
       "1                      0                            0                 2   \n",
       "2                      0                            0                 0   \n",
       "3                      0                            0                 0   \n",
       "4                      0                            0                 0   \n",
       "\n",
       "   AssignedRoomType  BookingChanges  Agent  Company  DaysInWaitingList  \\\n",
       "0                 2               3    0.0      0.0                  0   \n",
       "1                 2               4    0.0      0.0                  0   \n",
       "2                 2               0    0.0      0.0                  0   \n",
       "3                 0               0  157.0      0.0                  0   \n",
       "4                 0               0  103.0      0.0                  0   \n",
       "\n",
       "          ADR  RequiredCarParkingSpaces  TotalOfSpecialRequests  \\\n",
       "0  103.529882                         0                       0   \n",
       "1  103.529882                         0                       0   \n",
       "2   75.000000                         0                       0   \n",
       "3   75.000000                         0                       0   \n",
       "4   98.000000                         0                       1   \n",
       "\n",
       "  ReservationStatus ReservationStatusDate  Hotel_City Hotel  \\\n",
       "0         Check-Out            2015-07-01                 0   \n",
       "1         Check-Out            2015-07-01                 0   \n",
       "2         Check-Out            2015-07-02                 0   \n",
       "3         Check-Out            2015-07-02                 0   \n",
       "4         Check-Out            2015-07-03                 0   \n",
       "\n",
       "   Hotel_Resort Hotel  Meal_BB         Meal_FB         Meal_HB         \\\n",
       "0                   1               1               0               0   \n",
       "1                   1               1               0               0   \n",
       "2                   1               1               0               0   \n",
       "3                   1               1               0               0   \n",
       "4                   1               1               0               0   \n",
       "\n",
       "   Meal_SC         Meal_Undefined  MarketSegment_Aviation  \\\n",
       "0               0               0                       0   \n",
       "1               0               0                       0   \n",
       "2               0               0                       0   \n",
       "3               0               0                       0   \n",
       "4               0               0                       0   \n",
       "\n",
       "   MarketSegment_Complementary  MarketSegment_Corporate  MarketSegment_Direct  \\\n",
       "0                            0                        0                     1   \n",
       "1                            0                        0                     1   \n",
       "2                            0                        0                     1   \n",
       "3                            0                        1                     0   \n",
       "4                            0                        0                     0   \n",
       "\n",
       "   MarketSegment_Groups  MarketSegment_Offline TA/TO  MarketSegment_Online TA  \\\n",
       "0                     0                            0                        0   \n",
       "1                     0                            0                        0   \n",
       "2                     0                            0                        0   \n",
       "3                     0                            0                        0   \n",
       "4                     0                            0                        1   \n",
       "\n",
       "   MarketSegment_Undefined  DistributionChannel_Corporate  \\\n",
       "0                        0                              0   \n",
       "1                        0                              0   \n",
       "2                        0                              0   \n",
       "3                        0                              1   \n",
       "4                        0                              0   \n",
       "\n",
       "   DistributionChannel_Direct  DistributionChannel_GDS  \\\n",
       "0                           1                        0   \n",
       "1                           1                        0   \n",
       "2                           1                        0   \n",
       "3                           0                        0   \n",
       "4                           0                        0   \n",
       "\n",
       "   DistributionChannel_TA/TO  DistributionChannel_Undefined  \\\n",
       "0                          0                              0   \n",
       "1                          0                              0   \n",
       "2                          0                              0   \n",
       "3                          0                              0   \n",
       "4                          1                              0   \n",
       "\n",
       "   DepositType_No Deposit       DepositType_Non Refund       \\\n",
       "0                            1                            0   \n",
       "1                            1                            0   \n",
       "2                            1                            0   \n",
       "3                            1                            0   \n",
       "4                            1                            0   \n",
       "\n",
       "   DepositType_Refundable       CustomerType_Contract  CustomerType_Group  \\\n",
       "0                            0                      0                   0   \n",
       "1                            0                      0                   0   \n",
       "2                            0                      0                   0   \n",
       "3                            0                      0                   0   \n",
       "4                            0                      0                   0   \n",
       "\n",
       "   CustomerType_Transient  CustomerType_Transient-Party  \n",
       "0                       1                             0  \n",
       "1                       1                             0  \n",
       "2                       1                             0  \n",
       "3                       1                             0  \n",
       "4                       1                             0  "
      ]
     },
     "execution_count": 51,
     "metadata": {},
     "output_type": "execute_result"
    }
   ],
   "source": [
    "pd.set_option(\"display.max_columns\",None)\n",
    "hotel_encoded.head()"
   ]
  },
  {
   "cell_type": "code",
   "execution_count": 52,
   "metadata": {},
   "outputs": [],
   "source": [
    "encoder = OrdinalEncoder()\n",
    "reservation_array = encoder.fit_transform(hotel_encoded[['ReservationStatus']])\n",
    "hotel_encoded = hotel_encoded.drop(columns='ReservationStatus')\n",
    "hotel_encoded['ReservationStatus'] = reservation_array\n",
    "hotel_encoded = hotel_encoded.astype({'ReservationStatus':'int64'})"
   ]
  },
  {
   "cell_type": "code",
   "execution_count": 53,
   "metadata": {},
   "outputs": [],
   "source": [
    "hotel_encoded.to_csv(\"hotel_for_ML.csv\", index=False)"
   ]
  },
  {
   "cell_type": "code",
   "execution_count": null,
   "metadata": {},
   "outputs": [],
   "source": []
  },
  {
   "cell_type": "code",
   "execution_count": null,
   "metadata": {},
   "outputs": [],
   "source": []
  }
 ],
 "metadata": {
  "kernelspec": {
   "display_name": "Python 3",
   "language": "python",
   "name": "python3"
  },
  "language_info": {
   "codemirror_mode": {
    "name": "ipython",
    "version": 3
   },
   "file_extension": ".py",
   "mimetype": "text/x-python",
   "name": "python",
   "nbconvert_exporter": "python",
   "pygments_lexer": "ipython3",
   "version": "3.8.3"
  }
 },
 "nbformat": 4,
 "nbformat_minor": 4
}
